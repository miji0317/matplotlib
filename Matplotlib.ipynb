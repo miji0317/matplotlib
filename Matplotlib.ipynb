{
 "cells": [
  {
   "cell_type": "markdown",
   "metadata": {
    "collapsed": true,
    "pycharm": {
     "name": "#%% md\n"
    }
   },
   "source": [
    "# Matplotlib를 활용한 데이터 시각화\n",
    "\n",
    "- Badreesh Shetty, [Data Visualization using Matplotlib](https://towardsdatascience.com/data-visualization-using-matplotlib-16f1aae5ce70), [Medium](https://medium.com/), 2018-11-12.\n",
    "\n",
    "- 데이터 시각화는 비즈니스 활동의 중요한 요소\n",
    "    - 현대의 모든 조직은 빅 데이터를 수집하고 있음\n",
    "    - 이 모든 데이터들은 비즈니스를 위한 통찰력의 시작 지점\n",
    "    - 시각화는 이러한 통찰을 해석하기 쉽게 도와줌\n",
    "\n",
    "> 데이터는 표현되는 만큼만 가치를 가진다.<br>\n",
    "> Data is only as good as it's presented.\n",
    "\n",
    "- 데이터 시각화는 매우 중요하고, 꼭 필요함\n",
    "    - 탐색적 데이터 분석(EDA, Exploratory Data Analysis)\n",
    "    - 기계 학습(ML, Machine Learning)\n",
    "\n",
    "> 사람은 시각적 피조물이다. <br>\n",
    "> 사람의 두뇌는 시각적으로 연결되어 있으며,<br>\n",
    "> 시각과 연결되어야 더 빠르게 처리할 수 있다.\n",
    "\n",
    "> 당신의 업무가 데이터 과학과 직접적으로 연관되지 않더라도,<br>\n",
    "> 데이터 시각화가 무엇을 할 수 있고,<br>\n",
    "> 현실에서 어떻게 이루어지는지를 안다면 유용할 것이다.<br>\n",
    "> \\- Ramie Jacobson -"
   ]
  },
  {
   "cell_type": "markdown",
   "metadata": {},
   "source": [
    "## Matplotlib\n",
    "- 파이썬을 위한 2-D 시각화 라이브러리\n",
    "- 비싼 가격을 지불해야 하는\n",
    "  Matlab 소프트웨어에 대한 훌륭한 무료 대체재"
   ]
  },
  {
   "cell_type": "markdown",
   "metadata": {},
   "source": [
    "## Matplotlib 차트 요소\n",
    "\n",
    "![Matplotlib 차트 요소](https://miro.medium.com/max/479/1*G3GHcehkrWy8xVRlvQRUQg.png)\n",
    "\n",
    "- 그림 figure\n",
    "- 축 axis or spines\n",
    "    - X axis\n",
    "    - Y axis\n",
    "    - major tick (label)\n",
    "    - minor tick (label)\n",
    "    - grid\n",
    "- 제목 title or label\n",
    "    - title\n",
    "    - X axis label\n",
    "    - Y axis label\n",
    "- 범례 legend\n",
    "- 선 line (line plot)\n",
    "- 표식자 marker (scatter plot)"
   ]
  },
  {
   "cell_type": "markdown",
   "metadata": {},
   "source": [
    "## Matplotlib 설치\n",
    "- 아래 노트북 코드 셀에서 `!` 는 쉘 명령이라는 의미\n",
    "- 노트북 코드 셀에서 쉘 명령을 실행할 수 있지만,\n",
    "  파워 쉘 프롬프트 창에서 쉘 명령 실행하기를 권장함"
   ]
  },
  {
   "cell_type": "code",
   "execution_count": 1,
   "metadata": {
    "pycharm": {
     "name": "#%%\n"
    }
   },
   "outputs": [
    {
     "name": "stdout",
     "output_type": "stream",
     "text": [
      "Collecting package metadata (current_repodata.json): ...working... done\n",
      "Solving environment: ...working... done\n",
      "\n",
      "# All requested packages already installed.\n",
      "\n"
     ]
    }
   ],
   "source": [
    "!conda install matplotlib -c conda-forge"
   ]
  },
  {
   "cell_type": "markdown",
   "metadata": {},
   "source": [
    "## 일반적 절차\n",
    "- matplotlib.pyplot 임포트\n",
    "`import matplotlib.pyplot as plt`\n",
    "- `pd.read_csv()`로 데이터셋 입력\n",
    "- Pandas 데이터프레임에서 차트 작성할 부분을 추출\n",
    "- 적당한 함수를 호출하여 원하는 차트를 작성\n",
    "    - `plt.bar()` 함수로 막대 그래프\n",
    "    - `plt.hist()` 함수로 도수분포 차트\n",
    "    - `plt.boxplot()` 함수로 박스 플롯\n",
    "    - `plt.violinplot()` 함수로 바이올린 플롯\n",
    "    - `ax.plot()` 함수로 꺽은선 차트\n",
    "    - `plot.pie()` 함수로 파이 차트\n",
    "    - `plt.scatter()` 함수로 산점도\n",
    "    - `plt.stackplot()` 함수로 누적영역차트\n",
    "- `plt.xlabel` 및 `plt.ylabel`로 x-축 및 y-축 제목 지정\n",
    "- `plt.xticks` 및 `plt.yticks`로 x-축 및 y-축 눈금 지정\n",
    "- `plt.legend()`로 범례 지정\n",
    "- `plt.title()`로 제목 지정\n",
    "- `plt.show()`로 차트 출력"
   ]
  },
  {
   "cell_type": "markdown",
   "metadata": {},
   "source": [
    "## 막대 그래프 Bar Plot\n",
    "[예제 노트북](./Barplot.ipynb)\n",
    "\n",
    "- 다수 범주(category)에 대한 데이터 분포를 시각화\n",
    "    - x축 값이 이산형(끊어지는) 데이터라면 막대그래프\n",
    "    - x축 값이 연속형(이어지는) 수치데이터라면 히스토그램\n",
    "    - 다수 범주 간의 수치 값 비교에 유용함\n",
    "    - 인구 상위 10위 국가의 인구 규모\n",
    "![](https://miro.medium.com/max/713/1*xKfvb2z9GY3MS0Tp9yrytg.png)\n",
    "- `plt.bar()`\n",
    "    - 첫째 매개변수는 수치 x = [0, 1, 2, ..., 9]\n",
    "    - 둘째 매개변수는 10억 단위로 변환한 인구 수 `top_10_p['population']/10**9`\n",
    "    - 가로 축의 국가 이름은 `plt.xticks(x, top_10_p['country'])`로 출력했는데,\n",
    "      여기서 두 **매개변수가 모두 리스트 형태**라는 점에 주의가 필요함"
   ]
  },
  {
   "cell_type": "markdown",
   "metadata": {},
   "source": [
    "## 도수분포 차트 Histogram\n",
    "[예제 노트북](./Histograms.ipynb)\n",
    "- 도수 = 건수를 의미\n",
    "- 데이터 집합을 다수 구간(bin)으로 분할하고, 구간 별로 도수(frequency)를 표현\n",
    "![](https://miro.medium.com/max/328/1*_1qvF8jD_1amVM0SMJ3cjA.png)\n",
    "- 위 차트는 과거 57년 동안 그랜드캐년 연간 방문자를 도수분포 차트로 작성한 결과\n",
    "![](https://miro.medium.com/max/490/1*5a17l7yG4VLKjGLVouyycw.png)\n",
    "- 구간 별 변수 n 값이 막대의 높이로 표시된 차트\n",
    "![](https://miro.medium.com/max/512/1*TVUmVjh_BVjQe2wRwwnOzw.png)\n",
    "- `cumulative=True` 옵션으로 누적 도수분포 차트 (데이터 값을 갈수록 누적시키면서 쌓음)\n",
    "![](https://miro.medium.com/max/494/1*RryYV9wgjBdscZR_8OhRdg.png)\n",
    "- `range=(하한, 상한)` 옵션으로 특정 구간의 도수분포 차트 (투명도 지정)\n",
    "![](https://miro.medium.com/max/338/1*aRg_0AyDajWb0SlFRLkgyw.png)\n",
    "- 브라이스캐년 및 그랜드캐년에 대한 복수 도수분포 차트"
   ]
  },
  {
   "cell_type": "markdown",
   "metadata": {},
   "source": [
    "## 박스 플롯 및 바이올린 플롯 Box plot and Violin plot\n",
    "[예제 노트북](./Boxplot_Violinplot.ipynb)\n",
    "\n",
    "### 박스 플롯\n",
    "- 데이터의 분포에 대한 요약 정보를 제공하는 차트\n",
    "    - 통계적 정보에 대한 확인이 필요할 때\n",
    "    - 데이터에 포함된 이상치(outlier)를 확인할 때\n",
    "![](https://miro.medium.com/max/265/1*fCE_5juz235c6cmaOP_PDQ.png)\n",
    "- median(중앙값): 중앙값보다 큰 데이터가 50%\n",
    "- maximum(최댓값): 이상치를 제외하고 가장 큰 값\n",
    "- minimum(최솟값): 이상치를 제외하고 가장 작은 값\n",
    "- upper quartile(3/4분위수): 3/4분위수보다 큰 데이터가 25%\n",
    "- lower quartile(1/4분위수): 1/4분위수보다 작은 데이터가 25%\n",
    "- outlier(이상치)\n",
    "    - 3/4분위수보다 `1.5 * IQR` 이상 큰 데이터  \n",
    "    - 1/4분위수보다 `1.5 * IQR` 이상 작은 데이터\n",
    "- IQR(inter quattile range, 사분 범위)\n",
    "    - 1/4분위수와 3/4분위수 사이의 간격\n",
    "    - 대략적으로 50%의 데이터가 분포하는 구간\n",
    "\n",
    "![](https://miro.medium.com/max/770/1*ad0xiuRs1X-CvlO-XSCKoA.png)\n",
    "![](https://miro.medium.com/max/453/1*g12e9wIZOtKe8IHWGDNVBw.png)\n",
    "- 박스 플롯 bp의 내부 객체: boxes, whiskers, medians, caps\n",
    "- `patch_artist=True`: 색상을 입히라는 의미\n",
    "- `notch=True`: 중앙값을 강조하도록 잘록한 허리를 표시\n",
    "\n",
    "### 바이올린 플롯\n",
    "- 박스 플롯을 발전시킨 형태로서, 분포 형태에 대한 직관적 이해가 용이함\n",
    "![](https://miro.medium.com/max/662/1*J9OnuX8f5BjlB3XZiyHkVA.png)"
   ]
  },
  {
   "cell_type": "markdown",
   "metadata": {},
   "source": [
    "## 시계열 꺽은선 차트 line plot\n",
    "[예제 노트북](./Time_series.ipynb)\n",
    "\n",
    "- 시계열(time series)는 꺽은선 차트로 표현하며, 시간 흐름에 따른 추세를 보여줌\n",
    "    - 상향 추세는 양(positive)의 상관성\n",
    "    - 하향 추세는 음(negative)의 상관성\n",
    "![](https://miro.medium.com/max/770/1*3HWpcekG8MUwpQAtmW1Oow.png)\n",
    "- 날짜 열을 판다스 날짜시간 형식으로 변환하여, 차트 작성을 쉽게 함\n",
    "\n",
    "![](https://miro.medium.com/max/452/1*X3q-_Cl_eMuncoVG-DoQCQ.png)\n",
    "![](https://miro.medium.com/max/770/1*aYgw-zGwdRn_RE3h5KcIHQ.png)\n",
    "- `fig.add_axes([x0, y0, width, height])`\n",
    "    - (x0, y0) 좌표로 차트 원점의 위치를 지정\n",
    "    - (width, height)로 차트 원점으로부터 폭과 높이를 지정\n",
    "    - 정교한 위치 지정이 필요한 경우 사용하는 방법이며,\n",
    "        제목 등을 위한 여백을 사용자가 고려해서 위치와 크기를 지정해야 함\n",
    "- `fig.add_subplot(rcn)`\n",
    "    - 전체 차트 영역을 r 행, c 열로 분할하고\n",
    "    - 왼쪽 위에서 우측 아래로 분할된 영역에 (1부터 시작하는) 차례로 번호 메겼을 때, n 번째 영역\n",
    "    - 일반적으로 애용하는 방법이며,\n",
    "        제목 등을 위한 적당한 여백이 자동적으로 지정됨\n",
    "- `ax.plot()` 함수\n",
    "    - 첫째 매개변수는 (날짜를 저장한) 수치형이며 x 축 데이터로 사용됨\n",
    "    - 둘째 매개변수는 수치형이며 y 축 데이터로 사용됨\n",
    "- ax1 및 ax2\n",
    "    - ax1 차트가 큰 차트이며, 초록색으로 'AAPL' 데이터를 표시\n",
    "    - ax2 차트가 작은 차트이며, 파란색으로 'IBM' 데이터를 표시\n",
    "\n",
    "![](https://miro.medium.com/max/432/1*klsAZMknOQT6B2yd-My-xA.png)\n",
    "![](https://miro.medium.com/max/758/1*26SwjgcLr_j4_xY6EJ2Jfw.png)\n",
    "- 위 그림에선 `add_axes()`가 아닌 `add_subplot()`을 활용\n",
    "    - 구글 주가는 `add_subplot(232)`\n",
    "    - 넷플릭스 주가는 `add_subplot(235)`\n",
    "- 제목 지정\n",
    "    - 각 차트마다 제목은 `axn.set_title('차트 제목')`으로 지정\n",
    "    - 전체 그림 제목은 `fig.subtitle('그림 제목')`으로 지정"
   ]
  },
  {
   "cell_type": "markdown",
   "metadata": {},
   "source": [
    "## 이중 축 Twin Axis\n",
    "[예제 노트북](./TwinAxis.ipynb)\n",
    "- 동일한 x 축 상에서, 서로 다른 y 축을 두 개 작성하는 차트\n",
    "  예를 들어서,\n",
    "  시간을 단일 x 축으로 하되,\n",
    "  인구와 GDP를 서로 다른 두 y 축으로 작성하는 차트\n",
    "### 동일한 X 축에 (서로 다른 두 개 데이터를) 두 개 y 축으로 작성하는 차트\n",
    "![](https://miro.medium.com/max/770/1*dHwnU6ySte5aqNZYezQAgQ.png)\n",
    "![](https://miro.medium.com/max/618/1*d0qOyBrqqoXjgybphi_RLQ.png)\n",
    "![](https://miro.medium.com/max/664/1*r8oHw5OPQhMcl4aUcYA2-w.png)\n",
    "### 동일한 x 축에 (서로 다른 눈금의) 두 개 y 축으로 작성하는 차트\n",
    "![](https://miro.medium.com/max/561/1*5ScqG3lYngJ1-eHUWaNbhA.png)\n",
    "![](https://miro.medium.com/max/672/1*lbNAVBW3_4x2aEsmcgem0A.png)"
   ]
  },
  {
   "cell_type": "markdown",
   "metadata": {},
   "source": [
    "## 누적영역차트 및 줄기 플롯 Stack Plot and Stem Plot\n",
    "[예제 노트북](./Stackplot_Stemplot.ipynb)\n",
    "\n",
    "### 누적영역차트\n",
    "- 시간 흐름에 따른 분포를 누적하여 보여주는 차트\n",
    "    - 다수 변수에 대한 영역을 누적하여 표시\n",
    "![](https://miro.medium.com/max/364/1*BxpiEY02pFavicN3H4-VIg.png)\n",
    "- `np.vstack()`\n",
    "    - 넘파이에서 행 단위로 병합\n",
    "    - [numpy 열 합치기 행 합치기](https://m.blog.naver.com/PostView.nhn?blogId=wideeyed&logNo=221205882962&proxyReferer=https:%2F%2Fwww.google.com%2F)\n",
    "![](https://miro.medium.com/max/376/1*Vco9sE3BfPzN8Wm4G4hojg.png)\n",
    "- `plt.stackplot()`\n",
    "    - 첫째 매개변수는 수치형 자료로서 연도\n",
    "    - 둘째 매개변수는 행 단위로 세 종류의 연도별 자료\n",
    "\n",
    "### 백분율 누적영역차트\n",
    "- 모든 데이터를 백분율로 변환하여 누적영역차트로 표시\n",
    "![](https://miro.medium.com/max/689/1*-7K1U1plketjCnpk8fVTXw.png)\n",
    "- `np.divide(a, b)`는 `a/b`\n",
    "    - `axis=0`: 행(수직) 방향으로, 열마다 결과가 산출됨\n",
    "    - `axis=1`: 열(수평) 방향으로, 행마다 결과가 산출됨\n",
    "    - [파이썬 axis 이해하기 파이썬 치트코드](http://machinelearningkorea.com/2019/05/18/%ED%8C%8C%EC%9D%B4%EC%8D%AC-axis-%EC%9D%B4%ED%95%B4%ED%95%98%EA%B8%B0-%EC%B9%98%ED%8A%B8%EC%BD%94%EB%93%9C/)\n",
    "    - [Numpy에서 np.sum 함수의 axis 이해](http://taewan.kim/post/numpy_sum_axis/)\n",
    "\n",
    "### 줄기 플롯\n",
    "- 시간 흐름에 따른 데이터 값 변동량을 표시하여, 데이터 값의 변동 크기를 시각화\n",
    "![](https://miro.medium.com/max/572/1*hKw-F9uSY-5oPhW7ofdamg.png)\n",
    "    - np_data 데이터 프레임을 np_stem 데이터 프레임으로 복사\n",
    "    - df.diff() 메소드로 직전 행과 이번 행의 차이를 계산해서 np_stem 데이터 프레임에 저장\n",
    "    - 첫 행은 이전 행이 없으므로 NaN\n",
    "![](https://www.w3resource.com/w3r_images/pandas-dataframe-diff-1.svg)\n",
    "\n",
    "![](https://miro.medium.com/max/770/1*SQsTcZvyGCu3nWhoReBWyw.png)\n",
    "- `plt.subplot(31n)` 메소드로 3행 1열 서브플롯 작성 (n = 1, 2, 3)\n",
    "- `plt.stem()`\n",
    "    - 첫째 매개변수는 연도를 수치형으로 지정\n",
    "    - 둘째 매개변수는 국립공원 방문자 수의 전년 대비 변동을 수치형으로 지정\n",
    "    - `markerfmt='b_'`: 마커 색상은 blue, 모양은 '_'\n",
    "    - `linefmt='r--'`: 선 색상은 red, 모양은 '--'으로 dashed line\n",
    "    - `basefmt='g:'`: 기준선 색상은 grey, 모양은 ':'으로 dotted line\n",
    "![](https://miro.medium.com/max/770/1*AlIkWpXoCSdzut5xwJ4jEw.png)"
   ]
  },
  {
   "cell_type": "markdown",
   "metadata": {},
   "source": [
    "## 파이 차트 Pie Chart\n",
    "[예제 노트북](./PieChart.ipynb)\n",
    "\n",
    "[파이 차트 그리기](https://m.blog.naver.com/PostView.nhn?blogId=samsjang&logNo=220755238265&proxyReferer=https:%2F%2Fwww.google.com%2F)\n",
    "\n",
    "- 전체에서 차지하는 수치적 비중을 보여주는 조각(slices)으로 분할된 원형 차트\n",
    "- 대부분의 경우, 막대 그래프를 쓰는 편이 비교를 쉽게 해줌\n",
    "![](https://miro.medium.com/max/431/1*a1-FOzYZpHX5U03kOoNazg.png)\n",
    "- `plt.pie()` 함수\n",
    "    - 첫째 매개 변수: 백분율 정보\n",
    "    - 둘째 매개 변수: 레이블\n",
    "    - plt.axis('equal')\n",
    "        - x 축과 y 축 길이를 동등한, 완전한 원형\n",
    "        - 생략하면 타원형\n",
    "    - 현재 `startangle=0` 상태로서 3시 방향부터 반 시계 방향 순서,\n",
    "      만일 `startangle=90`이면 12시 방향부터 반 시계 방향 순서\n",
    "![](https://miro.medium.com/max/512/1*yrThnLG3Ub5By5IwzaC1yQ.png)\n",
    "- 파이 차트의 구성 요소에 대한 설명\n",
    "![](https://miro.medium.com/max/512/1*vR0jlrqSeVkBf8gmHi79eA.png)\n",
    "- 파이 차트의 색상 및 레이블 값에 대한 설정\n",
    "![](https://miro.medium.com/max/519/1*5qWJfIY-cBCBgZlTzerXsA.png)\n",
    "- explode(터짐) 옵션"
   ]
  },
  {
   "cell_type": "markdown",
   "metadata": {
    "pycharm": {
     "name": "#%% md\n"
    }
   },
   "source": [
    "## 산점도 Scatter Plot\n",
    "[예제 노트북](./Scatterplot.ipynb)\n",
    "\n",
    "### 산점도\n",
    "- 이차원 평면 공간에서 두 변수의 관련성을 시각화\n",
    "    - 두 변수 간의 상관성(correlation)이나 경향성을 시각화\n",
    "    - 기계학습(machine learning) 분야 회귀분석(regression analysis) 및 군집분석(clustering analysis)에서도 애용됨\n",
    "    - 이상치 확인에도 유용함\n",
    "![](https://miro.medium.com/max/536/1*u2qXX6T1h4oRppTe_y0d4g.png)\n",
    "- 위는 국내총생산과 기대 수명 간의 산점도\n",
    "    - 국내총생산(Gross Domestic Product)\n",
    "    - 기대 수명(Life Expectancy)\n",
    "- `plt.scatter()`\n",
    "    - 첫째 매개변수는 x 축에 적용될 연속형 변수\n",
    "    - 둘째 매개변수는 y 축에 적용될 연속형 변수\n",
    "![](https://miro.medium.com/max/597/1*o8g6tfbhafhcq333IG1vIw.png)\n",
    "- 위에서는 GDP의 **로그 값**과 기대 수명 간의 산점도\n",
    "    - np.log10(1) = 0, np.log10(10) = 1, np.log10(100) = 2, np.log10(1000) = 3, ...\n",
    "    - 로그 값은 몇 자리 수치인지를 의미함\n",
    "    - `x.corr(y)` 메소드로 x 변수의 y 변수에 대한 상관계수 확인이 가능함\n",
    "        - 이 값의 절대값이 1에 근접할수록 상관성이 높음\n",
    "        - 이 값의 절대값이 0에 근접할수록 상관성이 낮음\n",
    "    - 위에서 상관계수가 +0.8이므로\n",
    "        - GDP의 로그 값이 증가할수록 기대수명이 비례적으로 높아진다는 의미\n",
    "        - 상관계수의 절대값이 0.3 이상이면 상관성이 있다고 인정함\n",
    "\n",
    "### 3D 산점도\n",
    "![](https://miro.medium.com/max/726/1*1vqIWOwAZXcl9RJ6Iutp6g.png)\n",
    "- 삼차원 입체 공간에서 세 변수의 관련성을 시각화\n",
    "    - 세 변수 간의 상관성(correlation)이나 경향성을 시각화\n",
    "    - 연도 X (국내총생산 X 기대수명)\n",
    "    - 해석\n",
    "        - 연도마다 국내총생산 X 기대수명 패턴이 반복됨\n",
    "        - 최근일수록 국내총생산 규모가 증가하는 추세\n",
    "        - 최근일수록 기대수명이 증가하는 추세"
   ]
  },
  {
   "cell_type": "markdown",
   "metadata": {
    "pycharm": {
     "name": "#%% md\n"
    }
   },
   "source": [
    "## 결론\n",
    "- 상황에 적합한 시각화 차트를 선별하는 안목이 중요함\n",
    "- 선택한 유형의 시각화 차트를 구현하는 matplotlib 코드 작성의 실습\n",
    "    - 모든 것을 외워야 할 필요는 없음 (know-how, know-where, search-how)\n",
    "    - 실제로 코드 작성을 통한 시행착오를 통하여 자기 신뢰감을 가져야 함\n",
    "    - 세부적인 차트 요소에 대한 맞춤화를 위한 구글 검색의 습관화가 필요함\n",
    "    - matplotlib가 유일한 시각화 도구가 아니지만, 기본 개념을 익힐 수 있는 좋은 도구\n",
    "\n",
    "- 추천 논문  \n",
    "Christopher Flynn, [Creating better matplotlib charts](https://flynn.gg/blog/better-matplotlib-charts/), https://flynn.gg/, 2017-07-10."
   ]
  },
  {
   "cell_type": "code",
   "execution_count": null,
   "metadata": {},
   "outputs": [],
   "source": []
  }
 ],
 "metadata": {
  "kernelspec": {
   "display_name": "Python 3",
   "language": "python",
   "name": "python3"
  },
  "language_info": {
   "codemirror_mode": {
    "name": "ipython",
    "version": 3
   },
   "file_extension": ".py",
   "mimetype": "text/x-python",
   "name": "python",
   "nbconvert_exporter": "python",
   "pygments_lexer": "ipython3",
   "version": "3.8.5"
  },
  "toc": {
   "base_numbering": 1,
   "nav_menu": {},
   "number_sections": true,
   "sideBar": true,
   "skip_h1_title": true,
   "title_cell": "Table of Contents",
   "title_sidebar": "Contents",
   "toc_cell": false,
   "toc_position": {
    "height": "calc(100% - 180px)",
    "left": "10px",
    "top": "150px",
    "width": "213.438px"
   },
   "toc_section_display": true,
   "toc_window_display": true
  },
  "varInspector": {
   "cols": {
    "lenName": 16,
    "lenType": 16,
    "lenVar": 40
   },
   "kernels_config": {
    "python": {
     "delete_cmd_postfix": "",
     "delete_cmd_prefix": "del ",
     "library": "var_list.py",
     "varRefreshCmd": "print(var_dic_list())"
    },
    "r": {
     "delete_cmd_postfix": ") ",
     "delete_cmd_prefix": "rm(",
     "library": "var_list.r",
     "varRefreshCmd": "cat(var_dic_list()) "
    }
   },
   "types_to_exclude": [
    "module",
    "function",
    "builtin_function_or_method",
    "instance",
    "_Feature"
   ],
   "window_display": false
  }
 },
 "nbformat": 4,
 "nbformat_minor": 1
}
