{
 "cells": [
  {
   "cell_type": "markdown",
   "metadata": {},
   "source": [
    "#### Importing Libraries and Data"
   ]
  },
  {
   "cell_type": "code",
   "execution_count": 2,
   "metadata": {},
   "outputs": [],
   "source": [
    "import numpy as np\n",
    "import matplotlib\n",
    "import matplotlib.pyplot as plt\n",
    "import pandas as pd\n",
    "\n",
    "# 성적 데이터 읽어오기\n",
    "exam_data = pd.read_csv('datasets/exams.csv')"
   ]
  },
  {
   "cell_type": "code",
   "execution_count": 3,
   "metadata": {},
   "outputs": [
    {
     "data": {
      "text/plain": "   gender race/ethnicity parental level of education         lunch  \\\n0    male        group C            some high school  free/reduced   \n1  female        group C                some college  free/reduced   \n2    male        group A                 high school      standard   \n3    male        group B                some college      standard   \n4  female        group C             master's degree  free/reduced   \n\n  test preparation course  math score  reading score  writing score  \n0                    none          69             61             58  \n1               completed          47             65             69  \n2                    none          66             52             53  \n3                    none          88             89             82  \n4                    none          62             82             76  ",
      "text/html": "<div>\n<style scoped>\n    .dataframe tbody tr th:only-of-type {\n        vertical-align: middle;\n    }\n\n    .dataframe tbody tr th {\n        vertical-align: top;\n    }\n\n    .dataframe thead th {\n        text-align: right;\n    }\n</style>\n<table border=\"1\" class=\"dataframe\">\n  <thead>\n    <tr style=\"text-align: right;\">\n      <th></th>\n      <th>gender</th>\n      <th>race/ethnicity</th>\n      <th>parental level of education</th>\n      <th>lunch</th>\n      <th>test preparation course</th>\n      <th>math score</th>\n      <th>reading score</th>\n      <th>writing score</th>\n    </tr>\n  </thead>\n  <tbody>\n    <tr>\n      <th>0</th>\n      <td>male</td>\n      <td>group C</td>\n      <td>some high school</td>\n      <td>free/reduced</td>\n      <td>none</td>\n      <td>69</td>\n      <td>61</td>\n      <td>58</td>\n    </tr>\n    <tr>\n      <th>1</th>\n      <td>female</td>\n      <td>group C</td>\n      <td>some college</td>\n      <td>free/reduced</td>\n      <td>completed</td>\n      <td>47</td>\n      <td>65</td>\n      <td>69</td>\n    </tr>\n    <tr>\n      <th>2</th>\n      <td>male</td>\n      <td>group A</td>\n      <td>high school</td>\n      <td>standard</td>\n      <td>none</td>\n      <td>66</td>\n      <td>52</td>\n      <td>53</td>\n    </tr>\n    <tr>\n      <th>3</th>\n      <td>male</td>\n      <td>group B</td>\n      <td>some college</td>\n      <td>standard</td>\n      <td>none</td>\n      <td>88</td>\n      <td>89</td>\n      <td>82</td>\n    </tr>\n    <tr>\n      <th>4</th>\n      <td>female</td>\n      <td>group C</td>\n      <td>master's degree</td>\n      <td>free/reduced</td>\n      <td>none</td>\n      <td>62</td>\n      <td>82</td>\n      <td>76</td>\n    </tr>\n  </tbody>\n</table>\n</div>"
     },
     "execution_count": 3,
     "metadata": {},
     "output_type": "execute_result"
    }
   ],
   "source": [
    "exam_data.head()"
   ]
  },
  {
   "cell_type": "code",
   "execution_count": 4,
   "metadata": {},
   "outputs": [
    {
     "data": {
      "text/plain": "(100, 8)"
     },
     "execution_count": 4,
     "metadata": {},
     "output_type": "execute_result"
    }
   ],
   "source": [
    "exam_data.shape"
   ]
  },
  {
   "cell_type": "markdown",
   "metadata": {},
   "source": [
    "#### 시험 성적만 추출"
   ]
  },
  {
   "cell_type": "code",
   "execution_count": 5,
   "metadata": {},
   "outputs": [
    {
     "data": {
      "text/plain": "   math score  reading score  writing score\n0          69             61             58\n1          47             65             69\n2          66             52             53\n3          88             89             82\n4          62             82             76",
      "text/html": "<div>\n<style scoped>\n    .dataframe tbody tr th:only-of-type {\n        vertical-align: middle;\n    }\n\n    .dataframe tbody tr th {\n        vertical-align: top;\n    }\n\n    .dataframe thead th {\n        text-align: right;\n    }\n</style>\n<table border=\"1\" class=\"dataframe\">\n  <thead>\n    <tr style=\"text-align: right;\">\n      <th></th>\n      <th>math score</th>\n      <th>reading score</th>\n      <th>writing score</th>\n    </tr>\n  </thead>\n  <tbody>\n    <tr>\n      <th>0</th>\n      <td>69</td>\n      <td>61</td>\n      <td>58</td>\n    </tr>\n    <tr>\n      <th>1</th>\n      <td>47</td>\n      <td>65</td>\n      <td>69</td>\n    </tr>\n    <tr>\n      <th>2</th>\n      <td>66</td>\n      <td>52</td>\n      <td>53</td>\n    </tr>\n    <tr>\n      <th>3</th>\n      <td>88</td>\n      <td>89</td>\n      <td>82</td>\n    </tr>\n    <tr>\n      <th>4</th>\n      <td>62</td>\n      <td>82</td>\n      <td>76</td>\n    </tr>\n  </tbody>\n</table>\n</div>"
     },
     "execution_count": 5,
     "metadata": {},
     "output_type": "execute_result"
    }
   ],
   "source": [
    "exam_scores = exam_data[['math score', 'reading score', 'writing score']]\n",
    "exam_scores.head()"
   ]
  },
  {
   "cell_type": "code",
   "execution_count": 6,
   "metadata": {
    "scrolled": true
   },
   "outputs": [
    {
     "data": {
      "text/plain": "       math score  reading score  writing score\ncount  100.000000     100.000000     100.000000\nmean    67.150000      69.180000      67.780000\nstd     12.797865      13.832607      14.874954\nmin     36.000000      34.000000      33.000000\n25%     56.000000      60.000000      57.750000\n50%     68.000000      69.000000      68.500000\n75%     76.000000      80.000000      77.250000\nmax     95.000000      99.000000     100.000000",
      "text/html": "<div>\n<style scoped>\n    .dataframe tbody tr th:only-of-type {\n        vertical-align: middle;\n    }\n\n    .dataframe tbody tr th {\n        vertical-align: top;\n    }\n\n    .dataframe thead th {\n        text-align: right;\n    }\n</style>\n<table border=\"1\" class=\"dataframe\">\n  <thead>\n    <tr style=\"text-align: right;\">\n      <th></th>\n      <th>math score</th>\n      <th>reading score</th>\n      <th>writing score</th>\n    </tr>\n  </thead>\n  <tbody>\n    <tr>\n      <th>count</th>\n      <td>100.000000</td>\n      <td>100.000000</td>\n      <td>100.000000</td>\n    </tr>\n    <tr>\n      <th>mean</th>\n      <td>67.150000</td>\n      <td>69.180000</td>\n      <td>67.780000</td>\n    </tr>\n    <tr>\n      <th>std</th>\n      <td>12.797865</td>\n      <td>13.832607</td>\n      <td>14.874954</td>\n    </tr>\n    <tr>\n      <th>min</th>\n      <td>36.000000</td>\n      <td>34.000000</td>\n      <td>33.000000</td>\n    </tr>\n    <tr>\n      <th>25%</th>\n      <td>56.000000</td>\n      <td>60.000000</td>\n      <td>57.750000</td>\n    </tr>\n    <tr>\n      <th>50%</th>\n      <td>68.000000</td>\n      <td>69.000000</td>\n      <td>68.500000</td>\n    </tr>\n    <tr>\n      <th>75%</th>\n      <td>76.000000</td>\n      <td>80.000000</td>\n      <td>77.250000</td>\n    </tr>\n    <tr>\n      <th>max</th>\n      <td>95.000000</td>\n      <td>99.000000</td>\n      <td>100.000000</td>\n    </tr>\n  </tbody>\n</table>\n</div>"
     },
     "execution_count": 6,
     "metadata": {},
     "output_type": "execute_result"
    }
   ],
   "source": [
    "exam_scores.describe()"
   ]
  },
  {
   "cell_type": "code",
   "execution_count": 7,
   "metadata": {
    "scrolled": true
   },
   "outputs": [
    {
     "data": {
      "text/plain": "array([[ 69,  61,  58],\n       [ 47,  65,  69],\n       [ 66,  52,  53],\n       [ 88,  89,  82],\n       [ 62,  82,  76],\n       [ 47,  69,  60],\n       [ 71,  66,  74],\n       [ 57,  62,  60],\n       [ 60,  67,  65],\n       [ 74,  72,  76],\n       [ 77,  71,  67],\n       [ 69,  79,  83],\n       [ 65,  62,  56],\n       [ 55,  58,  51],\n       [ 78,  88,  91],\n       [ 70,  72,  72],\n       [ 55,  69,  55],\n       [ 68,  68,  62],\n       [ 73,  62,  58],\n       [ 54,  50,  51],\n       [ 81,  76,  77],\n       [ 70,  76,  73],\n       [ 64,  62,  63],\n       [ 51,  66,  63],\n       [ 49,  50,  43],\n       [ 83,  80,  82],\n       [ 86,  92,  81],\n       [ 83,  89,  94],\n       [ 61,  77,  68],\n       [ 55,  50,  44],\n       [ 56,  59,  55],\n       [ 46,  57,  61],\n       [ 68,  60,  52],\n       [ 78,  75,  69],\n       [ 85,  94,  93],\n       [ 95,  99,  95],\n       [ 82,  74,  78],\n       [ 94,  85,  96],\n       [ 64,  71,  68],\n       [ 70,  80,  85],\n       [ 84,  78,  84],\n       [ 62,  81,  73],\n       [ 52,  58,  53],\n       [ 89,  72,  74],\n       [ 64,  63,  63],\n       [ 74,  77,  72],\n       [ 50,  54,  54],\n       [ 86,  76,  82],\n       [ 53,  62,  64],\n       [ 36,  35,  33],\n       [ 64,  81,  75],\n       [ 71,  69,  74],\n       [ 73,  79,  77],\n       [ 80,  81,  72],\n       [ 75,  66,  67],\n       [ 64,  57,  51],\n       [ 68,  87,  77],\n       [ 73,  60,  65],\n       [ 77,  76,  69],\n       [ 85,  89,  85],\n       [ 77,  85,  82],\n       [ 53,  70,  72],\n       [ 48,  43,  42],\n       [ 91,  91, 100],\n       [ 67,  81,  85],\n       [ 74,  87,  88],\n       [ 70,  82,  78],\n       [ 65,  56,  58],\n       [ 75,  67,  63],\n       [ 63,  56,  49],\n       [ 86,  92,  94],\n       [ 76,  87,  85],\n       [ 56,  62,  67],\n       [ 48,  61,  64],\n       [ 67,  62,  60],\n       [ 80,  86,  88],\n       [ 77,  73,  74],\n       [ 51,  58,  53],\n       [ 71,  80,  84],\n       [ 59,  67,  72],\n       [ 69,  62,  57],\n       [ 74,  71,  71],\n       [ 63,  68,  65],\n       [ 68,  54,  50],\n       [ 69,  79,  73],\n       [ 75,  86,  89],\n       [ 79,  81,  74],\n       [ 51,  36,  44],\n       [ 59,  60,  56],\n       [ 49,  55,  49],\n       [ 76,  76,  69],\n       [ 75,  78,  77],\n       [ 54,  45,  43],\n       [ 45,  63,  65],\n       [ 75,  75,  78],\n       [ 56,  59,  61],\n       [ 64,  57,  62],\n       [ 62,  48,  38],\n       [ 44,  34,  36],\n       [ 48,  48,  40]], dtype=int64)"
     },
     "execution_count": 7,
     "metadata": {},
     "output_type": "execute_result"
    }
   ],
   "source": [
    "# 박스 플롯을 위하여 pd.df 형식을 np.array 형식으로 변환하여 저장\n",
    "exam_scores_array = np.array(exam_scores)\n",
    "exam_scores_array"
   ]
  },
  {
   "cell_type": "markdown",
   "metadata": {},
   "source": [
    "###  박스 플롯"
   ]
  },
  {
   "cell_type": "code",
   "execution_count": 11,
   "metadata": {
    "scrolled": true
   },
   "outputs": [
    {
     "data": {
      "text/plain": "<Figure size 432x288 with 1 Axes>",
      "image/png": "[encoded data removed]"
     },
     "metadata": {
      "needs_background": "light"
     },
     "output_type": "display_data"
    }
   ],
   "source": [
    "colors = ['blue', 'grey', 'lawngreen']\n",
    "\n",
    "bp = plt.boxplot(exam_scores_array, \n",
    "                 patch_artist=True,  # 색상을 채우라는 의미\n",
    "                 notch=True)         # V자나 U자형으로 움푹 팬 자리\n",
    "\n",
    "for i in range(len(bp['boxes'])):    \n",
    "    bp['boxes'][i].set(facecolor=colors[i])   # 박스 내부 색상 지정\n",
    "    bp['caps'][2*i].set(color=colors[i])      # caps(수염 하단 끝의 수평선) 색상 지정\n",
    "    bp['caps'][2*i + 1].set(color=colors[i])  # caps(수염 상단 끝의 수평선) 색상 지정\n",
    "\n",
    "plt.xticks([1, 2, 3], ['Math', 'Reading', 'Writing'])  # 눈금 번호 1부터 지정했음에 유의\n",
    "# plt.xticks([0, 1, 2], ['Math', 'Reading', 'Writing']) # 눈금 번호 0부터 지정하면 오류\n",
    "# plt.xticks에서 0번 위치는 원점 위치에 해당함\n",
    "\n",
    "plt.show()"
   ]
  },
  {
   "cell_type": "markdown",
   "metadata": {},
   "source": [
    "### 바이올린 플롯\n",
    "박스 플롯과 유사하지만, 데이터 값의 분포를 시각화"
   ]
  },
  {
   "cell_type": "code",
   "execution_count": 9,
   "metadata": {},
   "outputs": [
    {
     "data": {
      "text/plain": "<Figure size 432x288 with 1 Axes>",
      "image/png": "[encoded data removed]"
     },
     "metadata": {
      "needs_background": "light"
     },
     "output_type": "display_data"
    }
   ],
   "source": [
    "vp = plt.violinplot(exam_scores_array,\n",
    "                    showmedians=True)  # 중앙값을 표시하도록\n",
    "\n",
    "plt.xticks([1, 2, 3], ['Math', 'Reading', 'Writing'])\n",
    "\n",
    "for i in range(len(vp['bodies'])):\n",
    "    vp['bodies'][i].set(facecolor=colors[i])\n",
    "\n",
    "plt.show()    "
   ]
  }
 ],
 "metadata": {
  "kernelspec": {
   "display_name": "Python 3",
   "language": "python",
   "name": "python3"
  },
  "language_info": {
   "codemirror_mode": {
    "name": "ipython",
    "version": 3
   },
   "file_extension": ".py",
   "mimetype": "text/x-python",
   "name": "python",
   "nbconvert_exporter": "python",
   "pygments_lexer": "ipython3",
   "version": "3.8.5"
  },
  "toc": {
   "base_numbering": 1,
   "nav_menu": {},
   "number_sections": true,
   "sideBar": true,
   "skip_h1_title": false,
   "title_cell": "Table of Contents",
   "title_sidebar": "Contents",
   "toc_cell": false,
   "toc_position": {},
   "toc_section_display": true,
   "toc_window_display": false
  },
  "varInspector": {
   "cols": {
    "lenName": 16,
    "lenType": 16,
    "lenVar": 40
   },
   "kernels_config": {
    "python": {
     "delete_cmd_postfix": "",
     "delete_cmd_prefix": "del ",
     "library": "var_list.py",
     "varRefreshCmd": "print(var_dic_list())"
    },
    "r": {
     "delete_cmd_postfix": ") ",
     "delete_cmd_prefix": "rm(",
     "library": "var_list.r",
     "varRefreshCmd": "cat(var_dic_list()) "
    }
   },
   "types_to_exclude": [
    "module",
    "function",
    "builtin_function_or_method",
    "instance",
    "_Feature"
   ],
   "window_display": false
  }
 },
 "nbformat": 4,
 "nbformat_minor": 2
}